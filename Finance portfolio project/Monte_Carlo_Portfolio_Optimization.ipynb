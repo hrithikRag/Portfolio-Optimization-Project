{
 "cells": [
  {
   "cell_type": "markdown",
   "id": "3bf94f4e",
   "metadata": {},
   "source": [
    "# importing libraries"
   ]
  },
  {
   "cell_type": "code",
   "execution_count": 1,
   "id": "d7374b4e",
   "metadata": {},
   "outputs": [],
   "source": [
    "import pandas as pd\n",
    "import numpy as np\n",
    "import random as random\n",
    "import matplotlib.pyplot as plt\n",
    "import seaborn as sns\n",
    "import yfinance as yf  "
   ]
  },
  {
   "cell_type": "markdown",
   "id": "553ad02e",
   "metadata": {},
   "source": [
    "# portfolio optimization code"
   ]
  },
  {
   "cell_type": "code",
   "execution_count": 2,
   "id": "3d6ebfb8",
   "metadata": {},
   "outputs": [],
   "source": [
    "def get_portfolio_return(weights, returns):\n",
    "    \"\"\"\n",
    "    Calculates the portfolio return given the weights and individual stock returns.\n",
    "    \"\"\"\n",
    "    return np.sum(weights * returns)\n",
    "\n",
    "def get_portfolio_volatility(weights, cov_matrix):\n",
    "    \"\"\"\n",
    "    Calculates the portfolio volatility (risk) given the weights and covariance matrix.\n",
    "    \"\"\"\n",
    "    return np.sqrt(np.dot(weights.T, np.dot(cov_matrix, weights)))\n",
    "\n",
    "def get_portfolio_metrics(weights, returns, cov_matrix):\n",
    "    \"\"\"\n",
    "    Calculates the portfolio return and volatility given the weights, returns, and covariance matrix.\n",
    "    \"\"\"\n",
    "    portfolio_return = get_portfolio_return(weights, returns)\n",
    "    portfolio_volatility = get_portfolio_volatility(weights, cov_matrix)\n",
    "    return portfolio_return, portfolio_volatility\n",
    "\n",
    "def generate_random_portfolios(num_portfolios, stocks):\n",
    "    \"\"\"\n",
    "    Generates a specified number of random portfolios with different weights for each stock.\n",
    "    \"\"\"\n",
    "    num_stocks = len(stocks.columns)\n",
    "    returns = np.zeros(num_portfolios)\n",
    "    volatilities = np.zeros(num_portfolios)\n",
    "    weights_list = []\n",
    "    \n",
    "    for i in range(num_portfolios):\n",
    "        #Generate random weights for each stock in the portfolio\n",
    "        weights = np.abs((np.random.randn(num_stocks)))\n",
    "        weights /= np.sum((weights)) # ensure weights sum to 1, allowing for negative weights\n",
    "        \n",
    "        # Calculate portfolio metrics (return and volatility)\n",
    "        portfolio_return, portfolio_volatility = get_portfolio_metrics(weights, stocks.mean(), stocks.cov())\n",
    "        \n",
    "        # Store the results in the corresponding lists\n",
    "        returns[i] = portfolio_return\n",
    "        volatilities[i] = portfolio_volatility\n",
    "        weights_list.append(weights)\n",
    "        #print(weights,np.sum(weights),weights_list)\n",
    "    \n",
    "    return returns, volatilities, weights_list\n",
    "\n",
    "def optimize_portfolio(stocks, num_portfolios):\n",
    "    \"\"\"\n",
    "    Finds the best portfolio given a set of stocks using the Monte Carlo simulation method.\n",
    "    \"\"\"\n",
    "    returns, volatilities, weights_list = generate_random_portfolios(num_portfolios, stocks)\n",
    "    portfolio_metrics = np.array([returns, volatilities]).T\n",
    "    sharpe_ratios = (portfolio_metrics[:, 0] - (0.05/252)) / portfolio_metrics[:, 1] # assume risk-free rate of 5% annually\n",
    "    best_portfolio_index = np.argmax(sharpe_ratios)\n",
    "    best_portfolio_metrics = portfolio_metrics[best_portfolio_index]\n",
    "    best_portfolio_weights = weights_list[best_portfolio_index]\n",
    "    sharpe_ratio=(best_portfolio_metrics[0]-0.05/252)/best_portfolio_metrics[1]\n",
    "    \n",
    "    return best_portfolio_metrics[0], best_portfolio_metrics[1], best_portfolio_weights, volatilities,sharpe_ratio, returns\n",
    "\n",
    "\n",
    "def RRR(risk):\n",
    "    rrr=sharpe_ratio*risk + 0.05/250\n",
    "    return rrr"
   ]
  },
  {
   "cell_type": "markdown",
   "id": "f2754013",
   "metadata": {},
   "source": [
    "# choose number of stocks you want to include in your portfolio"
   ]
  },
  {
   "cell_type": "code",
   "execution_count": 3,
   "id": "d530f3a1",
   "metadata": {},
   "outputs": [
    {
     "name": "stdout",
     "output_type": "stream",
     "text": [
      "[*********************100%***********************]  49 of 49 completed\n",
      "Best portfolio weights:\n",
      "ADANIENT.NS: 0.0352\n",
      "APOLLOHOSP.NS: 0.0695\n",
      "ASIANPAINT.NS: 0.0185\n",
      "AXISBANK.NS: 0.0161\n",
      "BAJAJ-AUTO.NS: 0.0143\n",
      "BAJAJFINSV.NS: 0.0085\n",
      "BAJFINANCE.NS: 0.0537\n",
      "BHARTIARTL.NS: 0.0079\n",
      "BPCL.NS: 0.0238\n",
      "BRITANNIA.NS: 0.0058\n",
      "CIPLA.NS: 0.0414\n",
      "COALINDIA.NS: 0.0022\n",
      "DIVISLAB.NS: 0.0218\n",
      "DRREDDY.NS: 0.0281\n",
      "EICHERMOT.NS: 0.0063\n",
      "GRASIM.NS: 0.0055\n",
      "HCLTECH.NS: 0.0380\n",
      "HDFC.NS: 0.0069\n",
      "HDFCBANK.NS: 0.0126\n",
      "HDFCLIFE.NS: 0.0114\n",
      "HEROMOTOCO.NS: 0.0141\n",
      "HINDALCO.NS: 0.0026\n",
      "HINDUNILVR.NS: 0.0114\n",
      "ICICIBANK.NS: 0.0164\n",
      "INDUSINDBK.NS: 0.0005\n",
      "INFY.NS: 0.0381\n",
      "ITC.NS: 0.0355\n",
      "JSWSTEEL.NS: 0.0234\n",
      "KOTAKBANK.NS: 0.0114\n",
      "LT.NS: 0.0064\n",
      "M&M.NS: 0.0084\n",
      "MARUTI.NS: 0.0097\n",
      "NESTLEIND.NS: 0.0397\n",
      "NTPC.NS: 0.0161\n",
      "ONGC.NS: 0.0109\n",
      "POWERGRID.NS: 0.0069\n",
      "RELIANCE.NS: 0.0382\n",
      "SBILIFE.NS: 0.0333\n",
      "SBIN.NS: 0.0253\n",
      "SUNPHARMA.NS: 0.0091\n",
      "TATACONSUM.NS: 0.0247\n",
      "TATAMOTORS.NS: 0.0105\n",
      "TATASTEEL.NS: 0.0160\n",
      "TCS.NS: 0.0138\n",
      "TECHM.NS: 0.0098\n",
      "TITAN.NS: 0.0361\n",
      "ULTRACEMCO.NS: 0.0374\n",
      "UPL.NS: 0.0288\n",
      "WIPRO.NS: 0.0382\n",
      "Expected return: 0.001093901595587234\n",
      "Risk: 0.0120\n",
      "sharpe_ratio: 0.0744\n"
     ]
    }
   ],
   "source": [
    "# Define a list of stocks to include in the portfolioBHARTIART\n",
    "\n",
    "stocks_full =['ADANIENT.NS','APOLLOHOSP.NS', 'ASIANPAINT.NS', 'AXISBANK.NS', 'BAJAJ-AUTO.NS', 'BPCL.NS','INFY.NS','CIPLA.NS','HDFCBANK.NS','HINDUNILVR.NS','WIPRO.NS','UPL.NS','ULTRACEMCO.NS','TITAN.NS','TECHM.NS','TATASTEEL.NS','TATAMOTORS.NS','TATACONSUM.NS','TCS.NS','SUNPHARMA.NS','SBIN.NS','SBILIFE.NS','RELIANCE.NS','POWERGRID.NS','ONGC.NS','NTPC.NS','NESTLEIND.NS','MARUTI.NS','M&M.NS','LT.NS','KOTAKBANK.NS','JSWSTEEL.NS','INDUSINDBK.NS','ICICIBANK.NS','ITC.NS','HDFC.NS','HINDALCO.NS','HEROMOTOCO.NS','HDFCLIFE.NS','HCLTECH.NS','GRASIM.NS','EICHERMOT.NS','DRREDDY.NS','DIVISLAB.NS','COALINDIA.NS','BRITANNIA.NS','BHARTIARTL.NS','BAJAJFINSV.NS','BAJFINANCE.NS']\n",
    "\n",
    "stocks_temp=stocks_full[0:50]\n",
    "\n",
    "stocks = yf.download(stocks_temp,start='2010-01-01', end='2021-12-31')['Adj Close'].pct_change().dropna()\n",
    "\n",
    "# Set the number of portfolios to simulate\n",
    "num_portfolios = 10000\n",
    "\n",
    "# Find the best portfolio using the Monte Carlo simulation method\n",
    "best_portfolio_return, best_portfolio_risk, best_portfolio_weights, volatilities,sharpe_ratio, returns = optimize_portfolio(stocks, num_portfolios)\n",
    "\n",
    "# Print out the best portfolio weights, expected return, and risk\n",
    "print(\"Best portfolio weights:\")\n",
    "for i in range(len(stocks.columns)):\n",
    "    print(f\"{stocks.columns[i]}: {best_portfolio_weights[i]:.4f}\")\n",
    "print(f\"Expected return: {best_portfolio_return}\")\n",
    "print(f\"Risk: {best_portfolio_risk:.4f}\")\n",
    "print(f\"sharpe_ratio: {sharpe_ratio:.4f}\")\n"
   ]
  },
  {
   "cell_type": "code",
   "execution_count": 4,
   "id": "a17f5be2",
   "metadata": {},
   "outputs": [
    {
     "name": "stdout",
     "output_type": "stream",
     "text": [
      "0.0001273234689632034\n"
     ]
    }
   ],
   "source": [
    "print(volatilities.min()**2)"
   ]
  },
  {
   "cell_type": "markdown",
   "id": "b9097a7e",
   "metadata": {},
   "source": [
    "# get the return on your specified risk level"
   ]
  },
  {
   "cell_type": "code",
   "execution_count": 5,
   "id": "0eabd040",
   "metadata": {},
   "outputs": [],
   "source": [
    "#ret=RRR(\" ENTER YOUR RISK APPETITE HERE\")\n",
    "#ret"
   ]
  },
  {
   "cell_type": "markdown",
   "id": "1b87bd85",
   "metadata": {},
   "source": [
    "# Testing Expected Returns vs Actual Returns"
   ]
  },
  {
   "cell_type": "code",
   "execution_count": 6,
   "id": "a258a0d4",
   "metadata": {},
   "outputs": [
    {
     "name": "stdout",
     "output_type": "stream",
     "text": [
      "[*********************100%***********************]  49 of 49 completed\n"
     ]
    }
   ],
   "source": [
    "stocks_test=stocks_full[0:50]\n",
    "stocks = yf.download(stocks_temp,start='2022-01-01', end='2023-03-23')['Adj Close'].pct_change().dropna()"
   ]
  },
  {
   "cell_type": "code",
   "execution_count": 7,
   "id": "4ba48e0a",
   "metadata": {},
   "outputs": [
    {
     "data": {
      "text/plain": [
       "(303, 49)"
      ]
     },
     "execution_count": 7,
     "metadata": {},
     "output_type": "execute_result"
    }
   ],
   "source": [
    "stocks_array = stocks.to_numpy()\n",
    "stocks_array.shape"
   ]
  },
  {
   "cell_type": "code",
   "execution_count": 8,
   "id": "4eae4901",
   "metadata": {},
   "outputs": [],
   "source": [
    "Actual_Returns=stocks_array @ best_portfolio_weights"
   ]
  },
  {
   "cell_type": "markdown",
   "id": "6b1f3c4f",
   "metadata": {},
   "source": [
    "# Null Hypothesis : Expected return: 0.001151"
   ]
  },
  {
   "cell_type": "code",
   "execution_count": 9,
   "id": "7ac5e6de",
   "metadata": {},
   "outputs": [
    {
     "data": {
      "text/plain": [
       "-0.10343942320733235"
      ]
     },
     "execution_count": 9,
     "metadata": {},
     "output_type": "execute_result"
    }
   ],
   "source": [
    "z_obs=(Actual_Returns.mean()-best_portfolio_return)/Actual_Returns.std()\n",
    "z_obs"
   ]
  },
  {
   "cell_type": "code",
   "execution_count": 10,
   "id": "b69e51d9",
   "metadata": {},
   "outputs": [],
   "source": [
    "from scipy.stats import *"
   ]
  },
  {
   "cell_type": "code",
   "execution_count": 11,
   "id": "3a879c1e",
   "metadata": {},
   "outputs": [],
   "source": [
    "normal_dist=norm(0,1)"
   ]
  },
  {
   "cell_type": "code",
   "execution_count": 12,
   "id": "b3390ce4",
   "metadata": {},
   "outputs": [
    {
     "data": {
      "text/plain": [
       "0.9176142247465814"
      ]
     },
     "execution_count": 12,
     "metadata": {},
     "output_type": "execute_result"
    }
   ],
   "source": [
    "p_value = 2*normal_dist.cdf(z_obs)\n",
    "p_value"
   ]
  },
  {
   "cell_type": "markdown",
   "id": "2da9ad29",
   "metadata": {},
   "source": [
    "# p_value obtained above leads us to conclude that there is Hardly any evidence against Null Hypothesis"
   ]
  },
  {
   "cell_type": "markdown",
   "id": "9b317c1a",
   "metadata": {},
   "source": [
    "# comparison with market portfolio"
   ]
  },
  {
   "cell_type": "code",
   "execution_count": 13,
   "id": "9f21d0b6",
   "metadata": {},
   "outputs": [
    {
     "name": "stdout",
     "output_type": "stream",
     "text": [
      "[*********************100%***********************]  1 of 1 completed\n"
     ]
    }
   ],
   "source": [
    "# Define the ticker symbol for Nifty 50\n",
    "ticker_symbol = \"^NSEI\"\n",
    "\n",
    "# Define the start and end dates for the data\n",
    "start_date = \"2022-01-01\"\n",
    "end_date = \"2023-03-23\"\n",
    "\n",
    "# Retrieve the historical data using yfinance\n",
    "nifty_50_data = yf.download(ticker_symbol, start=start_date, end=end_date)['Adj Close'].pct_change().dropna()\n",
    "\n",
    "# Print the data\n",
    "#list(nifty_50_data)"
   ]
  },
  {
   "cell_type": "code",
   "execution_count": 14,
   "id": "707d3ecc",
   "metadata": {},
   "outputs": [
    {
     "name": "stdout",
     "output_type": "stream",
     "text": [
      "Market has beaten the portfolio with highest sharpe ratio 44.554455445544555 % of the time.\n"
     ]
    }
   ],
   "source": [
    "count=0\n",
    "new_samp=[]\n",
    "n=len(nifty_50_data)\n",
    "for i in nifty_50_data:\n",
    "    if i>best_portfolio_return:\n",
    "        count=count+1\n",
    "        new_samp.append(1)\n",
    "    else:\n",
    "        new_samp.append(0)\n",
    "prop_obs=count/n\n",
    "print('Market has beaten the portfolio with highest sharpe ratio', (prop_obs*100),'%' ,'of the time.')"
   ]
  },
  {
   "cell_type": "code",
   "execution_count": 15,
   "id": "a265437a",
   "metadata": {},
   "outputs": [],
   "source": [
    "#sns.scatterplot(x=volatilities, y=returns, s=5)\n",
    "#plt.show()"
   ]
  },
  {
   "cell_type": "markdown",
   "id": "59fcaa7d",
   "metadata": {},
   "source": [
    "# Plotting Efficient Frontier"
   ]
  },
  {
   "cell_type": "code",
   "execution_count": 16,
   "id": "93eeedbc",
   "metadata": {},
   "outputs": [],
   "source": [
    "#df = pd.DataFrame({'volatilities': volatilities, 'returns': returns})\n",
    "#df"
   ]
  },
  {
   "cell_type": "code",
   "execution_count": 17,
   "id": "2b39343f",
   "metadata": {},
   "outputs": [],
   "source": [
    "#df = pd.DataFrame({'volatilities': volatilities, 'returns': returns})\n",
    "#df=df.sort_values('returns')\n",
    "#df"
   ]
  },
  {
   "cell_type": "code",
   "execution_count": 18,
   "id": "c9025091",
   "metadata": {},
   "outputs": [],
   "source": [
    "#arr_return=list(df['returns'])\n",
    "#arr_volatility=list(df['volatilities'])\n",
    "#arr_return"
   ]
  },
  {
   "cell_type": "code",
   "execution_count": 19,
   "id": "3846778e",
   "metadata": {},
   "outputs": [],
   "source": [
    "#i=0\n",
    "#new_vola=[]\n",
    "#new_ret=[]\n",
    "#while i<len(arr_return):\n",
    "    #temp=arr_volatility[i:i+20000]\n",
    "    #new_vola.append(min(temp))\n",
    "    #new_ret.append(arr_return[arr_volatility.index(min(temp))])\n",
    "    #i=i+20000"
   ]
  },
  {
   "cell_type": "code",
   "execution_count": 20,
   "id": "ba0379a7",
   "metadata": {},
   "outputs": [],
   "source": [
    "# Create the scatter plot\n",
    "#plt.scatter(new_vola, new_ret, s=10)\n",
    "\n",
    "# Add labels and title\n",
    "#plt.xlabel('RISK')\n",
    "#plt.ylabel('RETURN')\n",
    "#plt.title('Effitient frontier')\n",
    "\n",
    "# Show the plot\n",
    "#plt.show()"
   ]
  },
  {
   "cell_type": "markdown",
   "id": "86636bbb",
   "metadata": {},
   "source": [
    "# Quadraric Optimization Code"
   ]
  },
  {
   "cell_type": "code",
   "execution_count": 21,
   "id": "faf54a7f",
   "metadata": {},
   "outputs": [
    {
     "name": "stdout",
     "output_type": "stream",
     "text": [
      "[*********************100%***********************]  10 of 10 completed\n",
      "Min Variance weights:\n",
      "ADANIENT.NS -0.028399489414593613\n",
      "APOLLOHOSP.NS 0.05549566753073923\n",
      "ASIANPAINT.NS 0.12018769429211285\n",
      "AXISBANK.NS -0.0448068214880842\n",
      "BAJAJ-AUTO.NS 0.1031367029139335\n",
      "BPCL.NS 0.03304401147444557\n",
      "INFY.NS 0.18806378209959207\n",
      "CIPLA.NS 0.2140297861841992\n",
      "HDFCBANK.NS 0.20499619088353366\n",
      "HINDUNILVR.NS 0.15425247552412163\n",
      "Expected return: [0.0007391]\n",
      "Risk: 9.272105333195975e-05\n"
     ]
    }
   ],
   "source": [
    "import cvxpy as cp\n",
    "\n",
    "# Define the list of stocks\n",
    "stocks_full=['ADANIENT.NS','APOLLOHOSP.NS', 'ASIANPAINT.NS', 'AXISBANK.NS', 'BAJAJ-AUTO.NS', 'BPCL.NS','INFY.NS','CIPLA.NS','HDFCBANK.NS','HINDUNILVR.NS','WIPRO.NS','UPL.NS','ULTRACEMCO.NS','TITAN.NS','TECHM.NS','TATASTEEL.NS','TATAMOTORS.NS','TATACONSUM.NS','TCS.NS','SUNPHARMA.NS','SBIN.NS','SBILIFE.NS','RELIANCE.NS','POWERGRID.NS','ONGC.NS','NTPC.NS','NESTLEIND.NS','MARUTI.NS','M&M.NS','LT.NS','KOTAKBANK.NS','JSWSTEEL.NS','INDUSINDBK.NS','ICICIBANK.NS','ITC.NS','HDFC.NS','HINDALCO.NS','HEROMOTOCO.NS','HDFCLIFE.NS','HCLTECH.NS','GRASIM.NS','EICHERMOT.NS','DRREDDY.NS','DIVISLAB.NS','COALINDIA.NS','BRITANNIA.NS','BHARTIARTL.NS','BAJAJFINSV.NS','BAJFINANCE.NS']\n",
    "stocks=stocks_full[0:10]\n",
    "\n",
    "n = len(stocks)\n",
    "\n",
    "# Download the current stock prices\n",
    "\n",
    "df = yf.download(stocks,start='2016-01-01', end='2022-01-01')['Adj Close']\n",
    "\n",
    "returns_old= df.pct_change().dropna().mean()\n",
    "returns = returns_old.values.reshape((1, n))\n",
    "cov_matrix_old = df.pct_change().cov()\n",
    "cov_matrix = cov_matrix_old.values.reshape((n, n))\n",
    "\n",
    "# Set up the optimization problem\n",
    "\n",
    "\n",
    "weights = cp.Variable(n)\n",
    "expected_return = returns @ weights\n",
    "risk= cp.quad_form(weights, cov_matrix)\n",
    "#lambda_val = cp.Parameter(nonneg=True)\n",
    "#regularization = lambda_val * cp.norm(weights, 1)\n",
    "\n",
    "objective = cp.Minimize(risk)\n",
    "\n",
    "constraints = [cp.sum(weights) == 1]\n",
    "\n",
    "# Solve the optimization problem\n",
    "#lambda_val.value = 0.1  # adjust lambda value as needed\n",
    "problem = cp.Problem(objective, constraints)\n",
    "problem.solve()\n",
    "\n",
    "# Print the results\n",
    "print(\"Min Variance weights:\")\n",
    "for i in range(n):\n",
    "    print(stocks[i], (weights[i].value))\n",
    "print(\"Expected return:\", (expected_return.value))\n",
    "print(\"Risk:\",(risk.value))"
   ]
  },
  {
   "cell_type": "code",
   "execution_count": null,
   "id": "cf08e877",
   "metadata": {},
   "outputs": [],
   "source": []
  }
 ],
 "metadata": {
  "kernelspec": {
   "display_name": "Python 3 (ipykernel)",
   "language": "python",
   "name": "python3"
  },
  "language_info": {
   "codemirror_mode": {
    "name": "ipython",
    "version": 3
   },
   "file_extension": ".py",
   "mimetype": "text/x-python",
   "name": "python",
   "nbconvert_exporter": "python",
   "pygments_lexer": "ipython3",
   "version": "3.10.9"
  }
 },
 "nbformat": 4,
 "nbformat_minor": 5
}
